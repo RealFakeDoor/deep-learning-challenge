{
 "cells": [
  {
   "cell_type": "markdown",
   "metadata": {},
   "source": [
    "## Preprocessing"
   ]
  },
  {
   "cell_type": "code",
   "execution_count": 1,
   "metadata": {
    "tags": []
   },
   "outputs": [
    {
     "name": "stderr",
     "output_type": "stream",
     "text": [
      "C:\\Users\\morga\\AppData\\Local\\Temp\\ipykernel_17720\\2822531089.py:17: DeprecationWarning: `import kerastuner` is deprecated, please use `import keras_tuner`.\n",
      "  from kerastuner.tuners import RandomSearch\n"
     ]
    },
    {
     "data": {
      "text/html": [
       "<div>\n",
       "<style scoped>\n",
       "    .dataframe tbody tr th:only-of-type {\n",
       "        vertical-align: middle;\n",
       "    }\n",
       "\n",
       "    .dataframe tbody tr th {\n",
       "        vertical-align: top;\n",
       "    }\n",
       "\n",
       "    .dataframe thead th {\n",
       "        text-align: right;\n",
       "    }\n",
       "</style>\n",
       "<table border=\"1\" class=\"dataframe\">\n",
       "  <thead>\n",
       "    <tr style=\"text-align: right;\">\n",
       "      <th></th>\n",
       "      <th>EIN</th>\n",
       "      <th>NAME</th>\n",
       "      <th>APPLICATION_TYPE</th>\n",
       "      <th>AFFILIATION</th>\n",
       "      <th>CLASSIFICATION</th>\n",
       "      <th>USE_CASE</th>\n",
       "      <th>ORGANIZATION</th>\n",
       "      <th>STATUS</th>\n",
       "      <th>INCOME_AMT</th>\n",
       "      <th>SPECIAL_CONSIDERATIONS</th>\n",
       "      <th>ASK_AMT</th>\n",
       "      <th>IS_SUCCESSFUL</th>\n",
       "    </tr>\n",
       "  </thead>\n",
       "  <tbody>\n",
       "    <tr>\n",
       "      <th>0</th>\n",
       "      <td>10520599</td>\n",
       "      <td>BLUE KNIGHTS MOTORCYCLE CLUB</td>\n",
       "      <td>T10</td>\n",
       "      <td>Independent</td>\n",
       "      <td>C1000</td>\n",
       "      <td>ProductDev</td>\n",
       "      <td>Association</td>\n",
       "      <td>1</td>\n",
       "      <td>0</td>\n",
       "      <td>N</td>\n",
       "      <td>5000</td>\n",
       "      <td>1</td>\n",
       "    </tr>\n",
       "    <tr>\n",
       "      <th>1</th>\n",
       "      <td>10531628</td>\n",
       "      <td>AMERICAN CHESAPEAKE CLUB CHARITABLE TR</td>\n",
       "      <td>T3</td>\n",
       "      <td>Independent</td>\n",
       "      <td>C2000</td>\n",
       "      <td>Preservation</td>\n",
       "      <td>Co-operative</td>\n",
       "      <td>1</td>\n",
       "      <td>1-9999</td>\n",
       "      <td>N</td>\n",
       "      <td>108590</td>\n",
       "      <td>1</td>\n",
       "    </tr>\n",
       "    <tr>\n",
       "      <th>2</th>\n",
       "      <td>10547893</td>\n",
       "      <td>ST CLOUD PROFESSIONAL FIREFIGHTERS</td>\n",
       "      <td>T5</td>\n",
       "      <td>CompanySponsored</td>\n",
       "      <td>C3000</td>\n",
       "      <td>ProductDev</td>\n",
       "      <td>Association</td>\n",
       "      <td>1</td>\n",
       "      <td>0</td>\n",
       "      <td>N</td>\n",
       "      <td>5000</td>\n",
       "      <td>0</td>\n",
       "    </tr>\n",
       "    <tr>\n",
       "      <th>3</th>\n",
       "      <td>10553066</td>\n",
       "      <td>SOUTHSIDE ATHLETIC ASSOCIATION</td>\n",
       "      <td>T3</td>\n",
       "      <td>CompanySponsored</td>\n",
       "      <td>C2000</td>\n",
       "      <td>Preservation</td>\n",
       "      <td>Trust</td>\n",
       "      <td>1</td>\n",
       "      <td>10000-24999</td>\n",
       "      <td>N</td>\n",
       "      <td>6692</td>\n",
       "      <td>1</td>\n",
       "    </tr>\n",
       "    <tr>\n",
       "      <th>4</th>\n",
       "      <td>10556103</td>\n",
       "      <td>GENETIC RESEARCH INSTITUTE OF THE DESERT</td>\n",
       "      <td>T3</td>\n",
       "      <td>Independent</td>\n",
       "      <td>C1000</td>\n",
       "      <td>Heathcare</td>\n",
       "      <td>Trust</td>\n",
       "      <td>1</td>\n",
       "      <td>100000-499999</td>\n",
       "      <td>N</td>\n",
       "      <td>142590</td>\n",
       "      <td>1</td>\n",
       "    </tr>\n",
       "  </tbody>\n",
       "</table>\n",
       "</div>"
      ],
      "text/plain": [
       "        EIN                                      NAME APPLICATION_TYPE  \\\n",
       "0  10520599              BLUE KNIGHTS MOTORCYCLE CLUB              T10   \n",
       "1  10531628    AMERICAN CHESAPEAKE CLUB CHARITABLE TR               T3   \n",
       "2  10547893        ST CLOUD PROFESSIONAL FIREFIGHTERS               T5   \n",
       "3  10553066            SOUTHSIDE ATHLETIC ASSOCIATION               T3   \n",
       "4  10556103  GENETIC RESEARCH INSTITUTE OF THE DESERT               T3   \n",
       "\n",
       "        AFFILIATION CLASSIFICATION      USE_CASE  ORGANIZATION  STATUS  \\\n",
       "0       Independent          C1000    ProductDev   Association       1   \n",
       "1       Independent          C2000  Preservation  Co-operative       1   \n",
       "2  CompanySponsored          C3000    ProductDev   Association       1   \n",
       "3  CompanySponsored          C2000  Preservation         Trust       1   \n",
       "4       Independent          C1000     Heathcare         Trust       1   \n",
       "\n",
       "      INCOME_AMT SPECIAL_CONSIDERATIONS  ASK_AMT  IS_SUCCESSFUL  \n",
       "0              0                      N     5000              1  \n",
       "1         1-9999                      N   108590              1  \n",
       "2              0                      N     5000              0  \n",
       "3    10000-24999                      N     6692              1  \n",
       "4  100000-499999                      N   142590              1  "
      ]
     },
     "execution_count": 1,
     "metadata": {},
     "output_type": "execute_result"
    }
   ],
   "source": [
    "# OPTMISING CHANGES\n",
    "# ATTEMPT 1:\n",
    "# Increased the cutoff values: Changed the cutoff values for APPLICATION_TYPE and CLASSIFICATION to group more rare occurrences into \"Other\". This simplifies the model and reduces noise.\n",
    "# Added more neurons and hidden layers: Increased the complexity of the neural network by adding a third hidden layer and increasing the number of neurons in each layer.\n",
    "# Increased the number of epochs: Trained the model for more epochs (150) to allow it to learn more from the data.\n",
    "\n",
    "# Import our dependencies\n",
    "from sklearn.model_selection import train_test_split\n",
    "from sklearn.preprocessing import StandardScaler\n",
    "\n",
    "import pandas as pd\n",
    "import tensorflow as tf\n",
    "\n",
    "from tensorflow.keras.models import Sequential\n",
    "from tensorflow.keras.layers import Dense\n",
    "\n",
    "from kerastuner.tuners import RandomSearch\n",
    "from kerastuner.engine.hyperparameters import HyperParameters\n",
    "\n",
    "\n",
    "#  Import and read the charity_data.csv.\n",
    "import pandas as pd\n",
    "application_df = pd.read_csv(\"https://static.bc-edx.com/data/dla-1-2/m21/lms/starter/charity_data.csv\")\n",
    "application_df.head()"
   ]
  },
  {
   "cell_type": "code",
   "execution_count": 2,
   "metadata": {
    "tags": []
   },
   "outputs": [],
   "source": [
    "# Drop the non-beneficial ID columns, 'EIN' and 'NAME'.\n",
    "application_df_dropped = application_df.drop(columns=['EIN', 'NAME', 'SPECIAL_CONSIDERATIONS'])"
   ]
  },
  {
   "cell_type": "code",
   "execution_count": 3,
   "metadata": {
    "tags": []
   },
   "outputs": [
    {
     "data": {
      "text/plain": [
       "APPLICATION_TYPE      17\n",
       "AFFILIATION            6\n",
       "CLASSIFICATION        71\n",
       "USE_CASE               5\n",
       "ORGANIZATION           4\n",
       "STATUS                 2\n",
       "INCOME_AMT             9\n",
       "ASK_AMT             8747\n",
       "IS_SUCCESSFUL          2\n",
       "dtype: int64"
      ]
     },
     "execution_count": 3,
     "metadata": {},
     "output_type": "execute_result"
    }
   ],
   "source": [
    "# Determine the number of unique values in each column.\n",
    "unique_values = application_df_dropped.nunique()\n",
    "unique_values"
   ]
  },
  {
   "cell_type": "code",
   "execution_count": 4,
   "metadata": {
    "tags": []
   },
   "outputs": [
    {
     "data": {
      "text/plain": [
       "T3     27037\n",
       "T4      1542\n",
       "T6      1216\n",
       "T5      1173\n",
       "T19     1065\n",
       "T8       737\n",
       "T7       725\n",
       "T10      528\n",
       "T9       156\n",
       "T13       66\n",
       "T12       27\n",
       "T2        16\n",
       "T25        3\n",
       "T14        3\n",
       "T29        2\n",
       "T15        2\n",
       "T17        1\n",
       "Name: APPLICATION_TYPE, dtype: int64"
      ]
     },
     "execution_count": 4,
     "metadata": {},
     "output_type": "execute_result"
    }
   ],
   "source": [
    "# Look at APPLICATION_TYPE value counts to identify and replace with \"Other\"\n",
    "application_type_counts = application_df_dropped['APPLICATION_TYPE'].value_counts()\n",
    "application_type_counts"
   ]
  },
  {
   "cell_type": "code",
   "execution_count": 5,
   "metadata": {
    "tags": []
   },
   "outputs": [
    {
     "data": {
      "text/plain": [
       "T3       27037\n",
       "T4        1542\n",
       "T6        1216\n",
       "T5        1173\n",
       "T19       1065\n",
       "Other      804\n",
       "T8         737\n",
       "T7         725\n",
       "Name: APPLICATION_TYPE, dtype: int64"
      ]
     },
     "execution_count": 5,
     "metadata": {},
     "output_type": "execute_result"
    }
   ],
   "source": [
    "# Choose a cutoff value and create a list of application types to be replaced\n",
    "# use the variable name `application_types_to_replace`\n",
    "# changed Bin cutoff value (other) from 200 to 500.\n",
    "application_types_to_replace = application_type_counts[application_type_counts < 600].index.tolist()\n",
    "\n",
    "# Replace in dataframe\n",
    "for app in application_types_to_replace:\n",
    "    application_df_dropped['APPLICATION_TYPE'] = application_df_dropped['APPLICATION_TYPE'].replace(app,\"Other\")\n",
    "\n",
    "# Check to make sure replacement was successful\n",
    "application_df_dropped['APPLICATION_TYPE'].value_counts()"
   ]
  },
  {
   "cell_type": "code",
   "execution_count": 6,
   "metadata": {
    "tags": []
   },
   "outputs": [
    {
     "data": {
      "text/plain": [
       "C1000    17326\n",
       "C2000     6074\n",
       "C1200     4837\n",
       "C3000     1918\n",
       "C2100     1883\n",
       "         ...  \n",
       "C4120        1\n",
       "C8210        1\n",
       "C2561        1\n",
       "C4500        1\n",
       "C2150        1\n",
       "Name: CLASSIFICATION, Length: 71, dtype: int64"
      ]
     },
     "execution_count": 6,
     "metadata": {},
     "output_type": "execute_result"
    }
   ],
   "source": [
    "# Look at CLASSIFICATION value counts to identify and replace with \"Other\"\n",
    "classification_counts = application_df_dropped['CLASSIFICATION'].value_counts()\n",
    "\n",
    "classification_counts"
   ]
  },
  {
   "cell_type": "code",
   "execution_count": 7,
   "metadata": {
    "tags": []
   },
   "outputs": [
    {
     "data": {
      "text/plain": [
       "C1000    17326\n",
       "C2000     6074\n",
       "C1200     4837\n",
       "C3000     1918\n",
       "C2100     1883\n",
       "C7000      777\n",
       "C1700      287\n",
       "C4000      194\n",
       "C5000      116\n",
       "C1270      114\n",
       "C2700      104\n",
       "C2800       95\n",
       "C7100       75\n",
       "C1300       58\n",
       "C1280       50\n",
       "C1230       36\n",
       "C1400       34\n",
       "C7200       32\n",
       "C2300       32\n",
       "C1240       30\n",
       "C8000       20\n",
       "C7120       18\n",
       "C1500       16\n",
       "C1800       15\n",
       "C6000       15\n",
       "C1250       14\n",
       "C8200       11\n",
       "C1238       10\n",
       "C1278       10\n",
       "C1235        9\n",
       "C1237        9\n",
       "C7210        7\n",
       "C2400        6\n",
       "C1720        6\n",
       "C4100        6\n",
       "C1257        5\n",
       "C1600        5\n",
       "C1260        3\n",
       "C2710        3\n",
       "C0           3\n",
       "C3200        2\n",
       "C1234        2\n",
       "C1246        2\n",
       "C1267        2\n",
       "C1256        2\n",
       "Name: CLASSIFICATION, dtype: int64"
      ]
     },
     "execution_count": 7,
     "metadata": {},
     "output_type": "execute_result"
    }
   ],
   "source": [
    "# You may find it helpful to look at CLASSIFICATION value counts >1\n",
    "classification_counts[classification_counts > 1]"
   ]
  },
  {
   "cell_type": "code",
   "execution_count": 8,
   "metadata": {
    "tags": []
   },
   "outputs": [
    {
     "data": {
      "text/plain": [
       "C1000    17326\n",
       "C2000     6074\n",
       "C1200     4837\n",
       "Other     2261\n",
       "C3000     1918\n",
       "C2100     1883\n",
       "Name: CLASSIFICATION, dtype: int64"
      ]
     },
     "execution_count": 8,
     "metadata": {},
     "output_type": "execute_result"
    }
   ],
   "source": [
    "# Choose a cutoff value and create a list of classifications to be replaced\n",
    "# use the variable name `classifications_to_replace`\n",
    "# Changed Bin cutoff value (other) from 900 to 1000.\n",
    "classifications_to_replace = classification_counts[classification_counts < 1000].index.tolist()\n",
    "\n",
    "\n",
    "# Replace in dataframe\n",
    "for cls in classifications_to_replace:\n",
    "    application_df_dropped['CLASSIFICATION'] = application_df_dropped['CLASSIFICATION'].replace(cls, \"Other\")\n",
    "\n",
    "\n",
    "# Check to make sure replacement was successful\n",
    "application_df_dropped['CLASSIFICATION'].value_counts()"
   ]
  },
  {
   "cell_type": "code",
   "execution_count": 9,
   "metadata": {
    "tags": []
   },
   "outputs": [],
   "source": [
    "# Convert categorical data to numeric with `pd.get_dummies`\n",
    "application_df_dummies = pd.get_dummies(application_df_dropped)"
   ]
  },
  {
   "cell_type": "code",
   "execution_count": 10,
   "metadata": {
    "tags": []
   },
   "outputs": [],
   "source": [
    "# Split our preprocessed data into our features and target arrays\n",
    "X = application_df_dummies.drop(columns=['IS_SUCCESSFUL'])\n",
    "y = application_df_dummies['IS_SUCCESSFUL']\n",
    "\n",
    "# Split the preprocessed data into a training and testing dataset\n",
    "X_train, X_test, y_train, y_test = train_test_split(X, y, test_size=0.2, random_state=42)"
   ]
  },
  {
   "cell_type": "code",
   "execution_count": 11,
   "metadata": {
    "tags": []
   },
   "outputs": [],
   "source": [
    "# Create a StandardScaler instances\n",
    "scaler = StandardScaler()\n",
    "\n",
    "# Fit the StandardScaler\n",
    "X_scaler = scaler.fit(X_train)\n",
    "\n",
    "# Scale the data\n",
    "X_train_scaled = X_scaler.transform(X_train)\n",
    "X_test_scaled = X_scaler.transform(X_test)"
   ]
  },
  {
   "cell_type": "markdown",
   "metadata": {
    "tags": []
   },
   "source": [
    "## Optimisation Tests for Model"
   ]
  },
  {
   "cell_type": "code",
   "execution_count": 27,
   "metadata": {
    "jupyter": {
     "source_hidden": true
    },
    "tags": []
   },
   "outputs": [
    {
     "name": "stdout",
     "output_type": "stream",
     "text": [
      "Reloading Tuner from my_dir\\intro_to_kt\\tuner0.json\n",
      "\n",
      "The optimal number of units in the first hidden layer is 50.\n",
      "The optimal number of units in the second hidden layer is 50.\n",
      "The optimal number of units in the third hidden layer is 150.\n",
      "The optimal activation function for the first hidden layer is tanh.\n",
      "The optimal activation function for the second hidden layer is elu.\n",
      "The optimal activation function for the third hidden layer is relu.\n",
      "The optimal learning rate for the optimizer is 0.001.\n",
      "\n",
      "Epoch 1/50\n",
      "858/858 [==============================] - 5s 5ms/step - loss: 0.5663 - accuracy: 0.7215 - val_loss: 0.5632 - val_accuracy: 0.7210\n",
      "Epoch 2/50\n",
      "858/858 [==============================] - 2s 2ms/step - loss: 0.5556 - accuracy: 0.7282 - val_loss: 0.5635 - val_accuracy: 0.7238\n",
      "Epoch 3/50\n",
      "858/858 [==============================] - 2s 2ms/step - loss: 0.5530 - accuracy: 0.7301 - val_loss: 0.5597 - val_accuracy: 0.7236\n",
      "Epoch 4/50\n",
      "858/858 [==============================] - 2s 2ms/step - loss: 0.5513 - accuracy: 0.7302 - val_loss: 0.5582 - val_accuracy: 0.7227\n",
      "Epoch 5/50\n",
      "858/858 [==============================] - 2s 2ms/step - loss: 0.5500 - accuracy: 0.7303 - val_loss: 0.5586 - val_accuracy: 0.7268\n",
      "Epoch 6/50\n",
      "858/858 [==============================] - 2s 2ms/step - loss: 0.5494 - accuracy: 0.7322 - val_loss: 0.5611 - val_accuracy: 0.7273\n",
      "Epoch 7/50\n",
      "858/858 [==============================] - 2s 2ms/step - loss: 0.5487 - accuracy: 0.7333 - val_loss: 0.5615 - val_accuracy: 0.7252\n",
      "Epoch 8/50\n",
      "858/858 [==============================] - 2s 2ms/step - loss: 0.5480 - accuracy: 0.7335 - val_loss: 0.5576 - val_accuracy: 0.7264\n",
      "Epoch 9/50\n",
      "858/858 [==============================] - 2s 2ms/step - loss: 0.5468 - accuracy: 0.7329 - val_loss: 0.5581 - val_accuracy: 0.7259\n",
      "Epoch 10/50\n",
      "858/858 [==============================] - 2s 2ms/step - loss: 0.5466 - accuracy: 0.7338 - val_loss: 0.5553 - val_accuracy: 0.7310\n",
      "Epoch 11/50\n",
      "858/858 [==============================] - 2s 2ms/step - loss: 0.5456 - accuracy: 0.7332 - val_loss: 0.5569 - val_accuracy: 0.7235\n",
      "Epoch 12/50\n",
      "858/858 [==============================] - 2s 2ms/step - loss: 0.5458 - accuracy: 0.7336 - val_loss: 0.5598 - val_accuracy: 0.7249\n",
      "Epoch 13/50\n",
      "858/858 [==============================] - 2s 2ms/step - loss: 0.5449 - accuracy: 0.7337 - val_loss: 0.5610 - val_accuracy: 0.7254\n",
      "Epoch 14/50\n",
      "858/858 [==============================] - 2s 2ms/step - loss: 0.5447 - accuracy: 0.7345 - val_loss: 0.5570 - val_accuracy: 0.7264\n",
      "Epoch 15/50\n",
      "858/858 [==============================] - 2s 2ms/step - loss: 0.5441 - accuracy: 0.7345 - val_loss: 0.5574 - val_accuracy: 0.7296\n",
      "Epoch 16/50\n",
      "858/858 [==============================] - 2s 2ms/step - loss: 0.5438 - accuracy: 0.7359 - val_loss: 0.5567 - val_accuracy: 0.7309\n",
      "Epoch 17/50\n",
      "858/858 [==============================] - 2s 2ms/step - loss: 0.5439 - accuracy: 0.7353 - val_loss: 0.5554 - val_accuracy: 0.7297\n",
      "Epoch 18/50\n",
      "858/858 [==============================] - 2s 2ms/step - loss: 0.5426 - accuracy: 0.7356 - val_loss: 0.5575 - val_accuracy: 0.7248\n",
      "Epoch 19/50\n",
      "858/858 [==============================] - 2s 2ms/step - loss: 0.5425 - accuracy: 0.7356 - val_loss: 0.5574 - val_accuracy: 0.7254\n",
      "Epoch 20/50\n",
      "858/858 [==============================] - 2s 2ms/step - loss: 0.5418 - accuracy: 0.7360 - val_loss: 0.5640 - val_accuracy: 0.7278\n",
      "Epoch 21/50\n",
      "858/858 [==============================] - 2s 2ms/step - loss: 0.5426 - accuracy: 0.7362 - val_loss: 0.5574 - val_accuracy: 0.7213\n",
      "Epoch 22/50\n",
      "858/858 [==============================] - 2s 2ms/step - loss: 0.5410 - accuracy: 0.7363 - val_loss: 0.5571 - val_accuracy: 0.7255\n",
      "Epoch 23/50\n",
      "858/858 [==============================] - 2s 2ms/step - loss: 0.5411 - accuracy: 0.7361 - val_loss: 0.5625 - val_accuracy: 0.7308\n",
      "Epoch 24/50\n",
      "858/858 [==============================] - 2s 2ms/step - loss: 0.5412 - accuracy: 0.7367 - val_loss: 0.5569 - val_accuracy: 0.7283\n",
      "Epoch 25/50\n",
      "858/858 [==============================] - 2s 2ms/step - loss: 0.5409 - accuracy: 0.7359 - val_loss: 0.5584 - val_accuracy: 0.7262\n",
      "Epoch 26/50\n",
      "858/858 [==============================] - 2s 2ms/step - loss: 0.5405 - accuracy: 0.7371 - val_loss: 0.5569 - val_accuracy: 0.7255\n",
      "Epoch 27/50\n",
      "858/858 [==============================] - 2s 2ms/step - loss: 0.5400 - accuracy: 0.7371 - val_loss: 0.5614 - val_accuracy: 0.7305\n",
      "Epoch 28/50\n",
      "858/858 [==============================] - 2s 2ms/step - loss: 0.5397 - accuracy: 0.7369 - val_loss: 0.5594 - val_accuracy: 0.7274\n",
      "Epoch 29/50\n",
      "858/858 [==============================] - 2s 2ms/step - loss: 0.5394 - accuracy: 0.7383 - val_loss: 0.5577 - val_accuracy: 0.7246\n",
      "Epoch 30/50\n",
      "858/858 [==============================] - 2s 2ms/step - loss: 0.5396 - accuracy: 0.7370 - val_loss: 0.5586 - val_accuracy: 0.7238\n",
      "Epoch 31/50\n",
      "858/858 [==============================] - 2s 2ms/step - loss: 0.5388 - accuracy: 0.7375 - val_loss: 0.5609 - val_accuracy: 0.7270\n",
      "Epoch 32/50\n",
      "858/858 [==============================] - 2s 2ms/step - loss: 0.5389 - accuracy: 0.7371 - val_loss: 0.5590 - val_accuracy: 0.7290\n",
      "Epoch 33/50\n",
      "858/858 [==============================] - 2s 2ms/step - loss: 0.5390 - accuracy: 0.7371 - val_loss: 0.5578 - val_accuracy: 0.7290\n",
      "Epoch 34/50\n",
      "858/858 [==============================] - 2s 2ms/step - loss: 0.5384 - accuracy: 0.7372 - val_loss: 0.5600 - val_accuracy: 0.7235\n",
      "Epoch 35/50\n",
      "858/858 [==============================] - 2s 2ms/step - loss: 0.5385 - accuracy: 0.7375 - val_loss: 0.5604 - val_accuracy: 0.7292\n",
      "Epoch 36/50\n",
      "858/858 [==============================] - 2s 2ms/step - loss: 0.5377 - accuracy: 0.7376 - val_loss: 0.5620 - val_accuracy: 0.7310\n",
      "Epoch 37/50\n",
      "858/858 [==============================] - 2s 2ms/step - loss: 0.5381 - accuracy: 0.7384 - val_loss: 0.5580 - val_accuracy: 0.7292\n",
      "Epoch 38/50\n",
      "858/858 [==============================] - 2s 2ms/step - loss: 0.5375 - accuracy: 0.7374 - val_loss: 0.5591 - val_accuracy: 0.7281\n",
      "Epoch 39/50\n",
      "858/858 [==============================] - 2s 2ms/step - loss: 0.5374 - accuracy: 0.7374 - val_loss: 0.5607 - val_accuracy: 0.7277\n",
      "Epoch 40/50\n",
      "858/858 [==============================] - 2s 2ms/step - loss: 0.5373 - accuracy: 0.7386 - val_loss: 0.5610 - val_accuracy: 0.7265\n",
      "Epoch 41/50\n",
      "858/858 [==============================] - 2s 2ms/step - loss: 0.5368 - accuracy: 0.7375 - val_loss: 0.5633 - val_accuracy: 0.7262\n",
      "Epoch 42/50\n",
      "858/858 [==============================] - 2s 2ms/step - loss: 0.5368 - accuracy: 0.7383 - val_loss: 0.5624 - val_accuracy: 0.7273\n",
      "Epoch 43/50\n",
      "858/858 [==============================] - 2s 2ms/step - loss: 0.5363 - accuracy: 0.7385 - val_loss: 0.5671 - val_accuracy: 0.7251\n",
      "Epoch 44/50\n",
      "858/858 [==============================] - 2s 2ms/step - loss: 0.5364 - accuracy: 0.7401 - val_loss: 0.5641 - val_accuracy: 0.7259\n",
      "Epoch 45/50\n",
      "858/858 [==============================] - 2s 2ms/step - loss: 0.5365 - accuracy: 0.7386 - val_loss: 0.5631 - val_accuracy: 0.7270\n",
      "Epoch 46/50\n",
      "858/858 [==============================] - 2s 2ms/step - loss: 0.5364 - accuracy: 0.7388 - val_loss: 0.5637 - val_accuracy: 0.7293\n",
      "Epoch 47/50\n",
      "858/858 [==============================] - 2s 2ms/step - loss: 0.5360 - accuracy: 0.7384 - val_loss: 0.5644 - val_accuracy: 0.7265\n",
      "Epoch 48/50\n",
      "858/858 [==============================] - 2s 2ms/step - loss: 0.5359 - accuracy: 0.7395 - val_loss: 0.5650 - val_accuracy: 0.7284\n",
      "Epoch 49/50\n",
      "858/858 [==============================] - 2s 2ms/step - loss: 0.5359 - accuracy: 0.7380 - val_loss: 0.5651 - val_accuracy: 0.7274\n",
      "Epoch 50/50\n",
      "858/858 [==============================] - 2s 2ms/step - loss: 0.5354 - accuracy: 0.7383 - val_loss: 0.5647 - val_accuracy: 0.7246\n",
      "215/215 - 0s - loss: 0.5647 - accuracy: 0.7246 - 272ms/epoch - 1ms/step\n",
      "Loss: 0.5646828413009644, Accuracy: 0.7246355414390564\n"
     ]
    }
   ],
   "source": [
    "# Define the model using Keras Tuner with 3 hidden layers\n",
    "def build_model(hp):\n",
    "    model = Sequential()\n",
    "    model.add(Dense(units=hp.Int('units1', min_value=1, max_value=200, step=1), \n",
    "                    activation=hp.Choice('activation1', ['relu', 'tanh', 'elu']), \n",
    "                    input_dim=X_train_scaled.shape[1]))\n",
    "    model.add(Dense(units=hp.Int('units2', min_value=1, max_value=200, step=1), \n",
    "                    activation=hp.Choice('activation2', ['relu', 'tanh', 'elu'])))\n",
    "    model.add(Dense(units=hp.Int('units3', min_value=1, max_value=200, step=1), \n",
    "                    activation=hp.Choice('activation3', ['relu', 'tanh', 'elu'])))\n",
    "    model.add(Dense(1, activation='sigmoid'))\n",
    "    \n",
    "    model.compile(optimizer=tf.keras.optimizers.Adam(learning_rate=hp.Choice('learning_rate', [1e-2, 1e-3, 1e-4])),\n",
    "                  loss='binary_crossentropy',\n",
    "                  metrics=['accuracy'])\n",
    "    return model\n",
    "\n",
    "# Set up the tuner\n",
    "tuner = RandomSearch(\n",
    "    build_model,\n",
    "    objective='val_accuracy',\n",
    "    max_trials=10,\n",
    "    executions_per_trial=3,\n",
    "    directory='my_dir',\n",
    "    project_name='intro_to_kt')\n",
    "\n",
    "# Perform hyperparameter tuning\n",
    "tuner.search(X_train_scaled, y_train, epochs=10, validation_data=(X_test_scaled, y_test))\n",
    "\n",
    "# Get the optimal hyperparameters\n",
    "best_hps = tuner.get_best_hyperparameters(num_trials=1)[0]\n",
    "\n",
    "# Print the optimal hyperparameters\n",
    "print(f\"\"\"\n",
    "The optimal number of units in the first hidden layer is {best_hps.get('units1')}.\n",
    "The optimal number of units in the second hidden layer is {best_hps.get('units2')}.\n",
    "The optimal number of units in the third hidden layer is {best_hps.get('units3')}.\n",
    "The optimal activation function for the first hidden layer is {best_hps.get('activation1')}.\n",
    "The optimal activation function for the second hidden layer is {best_hps.get('activation2')}.\n",
    "The optimal activation function for the third hidden layer is {best_hps.get('activation3')}.\n",
    "The optimal learning rate for the optimizer is {best_hps.get('learning_rate')}.\n",
    "\"\"\")\n",
    "\n",
    "# Build the model with the optimal hyperparameters and train it\n",
    "model = tuner.hypermodel.build(best_hps)\n",
    "history = model.fit(X_train_scaled, y_train, epochs=50, validation_data=(X_test_scaled, y_test))\n",
    "\n",
    "# Evaluate the model using the test data\n",
    "model_loss, model_accuracy = model.evaluate(X_test_scaled, y_test, verbose=2)\n",
    "print(f\"Loss: {model_loss}, Accuracy: {model_accuracy}\")\n"
   ]
  },
  {
   "cell_type": "markdown",
   "metadata": {
    "tags": []
   },
   "source": [
    "## Compile and run Optimised Model"
   ]
  },
  {
   "cell_type": "code",
   "execution_count": 29,
   "metadata": {
    "tags": []
   },
   "outputs": [
    {
     "name": "stdout",
     "output_type": "stream",
     "text": [
      "Model: \"sequential_8\"\n",
      "_________________________________________________________________\n",
      " Layer (type)                Output Shape              Param #   \n",
      "=================================================================\n",
      " dense_30 (Dense)            (None, 50)                2050      \n",
      "                                                                 \n",
      " dense_31 (Dense)            (None, 50)                2550      \n",
      "                                                                 \n",
      " dense_32 (Dense)            (None, 150)               7650      \n",
      "                                                                 \n",
      " dense_33 (Dense)            (None, 1)                 151       \n",
      "                                                                 \n",
      "=================================================================\n",
      "Total params: 12,401\n",
      "Trainable params: 12,401\n",
      "Non-trainable params: 0\n",
      "_________________________________________________________________\n"
     ]
    }
   ],
   "source": [
    "# Define the model - deep neural net, i.e., the number of input features and hidden nodes for each layer.\n",
    "nn = tf.keras.models.Sequential()\n",
    "\n",
    "# First hidden layer\n",
    "# Changed the number of neurons in each hidden layer. (increased number of neurons)\n",
    "\n",
    "nn.add(tf.keras.layers.Dense(units=50, activation='tanh', input_dim=X_train_scaled.shape[1]))\n",
    "\n",
    "# Second hidden layer\n",
    "nn.add(tf.keras.layers.Dense(units=50, activation='elu'))\n",
    "\n",
    "# Added another hidden layer.\n",
    "\n",
    "# # Third hidden layer\n",
    "nn.add(tf.keras.layers.Dense(units=150, activation='relu'))\n",
    "\n",
    "# Output layer\n",
    "nn.add(tf.keras.layers.Dense(units=1, activation='sigmoid'))\n",
    "\n",
    "# Check the structure of the model\n",
    "nn.summary()"
   ]
  },
  {
   "cell_type": "code",
   "execution_count": 30,
   "metadata": {
    "tags": []
   },
   "outputs": [],
   "source": [
    "# Compile the model\n",
    "nn.compile(loss='binary_crossentropy', optimizer='adam', metrics=['accuracy'])"
   ]
  },
  {
   "cell_type": "code",
   "execution_count": 31,
   "metadata": {
    "tags": []
   },
   "outputs": [
    {
     "name": "stdout",
     "output_type": "stream",
     "text": [
      "Epoch 1/100\n",
      "858/858 [==============================] - 2s 2ms/step - loss: 0.5659 - accuracy: 0.7223\n",
      "Epoch 2/100\n",
      "858/858 [==============================] - 1s 2ms/step - loss: 0.5556 - accuracy: 0.7288\n",
      "Epoch 3/100\n",
      "858/858 [==============================] - 1s 2ms/step - loss: 0.5534 - accuracy: 0.7297\n",
      "Epoch 4/100\n",
      "858/858 [==============================] - 1s 2ms/step - loss: 0.5524 - accuracy: 0.7308\n",
      "Epoch 5/100\n",
      "858/858 [==============================] - 1s 2ms/step - loss: 0.5505 - accuracy: 0.7309\n",
      "Epoch 6/100\n",
      "858/858 [==============================] - 1s 2ms/step - loss: 0.5493 - accuracy: 0.7320\n",
      "Epoch 7/100\n",
      "858/858 [==============================] - 1s 2ms/step - loss: 0.5485 - accuracy: 0.7321\n",
      "Epoch 8/100\n",
      "858/858 [==============================] - 1s 2ms/step - loss: 0.5472 - accuracy: 0.7334\n",
      "Epoch 9/100\n",
      "858/858 [==============================] - 2s 2ms/step - loss: 0.5477 - accuracy: 0.7329\n",
      "Epoch 10/100\n",
      "858/858 [==============================] - 1s 2ms/step - loss: 0.5466 - accuracy: 0.7336\n",
      "Epoch 11/100\n",
      "858/858 [==============================] - 1s 2ms/step - loss: 0.5459 - accuracy: 0.7325\n",
      "Epoch 12/100\n",
      "858/858 [==============================] - 1s 2ms/step - loss: 0.5458 - accuracy: 0.7343\n",
      "Epoch 13/100\n",
      "858/858 [==============================] - 1s 2ms/step - loss: 0.5451 - accuracy: 0.7353\n",
      "Epoch 14/100\n",
      "858/858 [==============================] - 1s 2ms/step - loss: 0.5448 - accuracy: 0.7348\n",
      "Epoch 15/100\n",
      "858/858 [==============================] - 2s 2ms/step - loss: 0.5442 - accuracy: 0.7338\n",
      "Epoch 16/100\n",
      "858/858 [==============================] - 1s 2ms/step - loss: 0.5432 - accuracy: 0.7340\n",
      "Epoch 17/100\n",
      "858/858 [==============================] - 1s 2ms/step - loss: 0.5437 - accuracy: 0.7355\n",
      "Epoch 18/100\n",
      "858/858 [==============================] - 1s 2ms/step - loss: 0.5432 - accuracy: 0.7346\n",
      "Epoch 19/100\n",
      "858/858 [==============================] - 1s 2ms/step - loss: 0.5431 - accuracy: 0.7362\n",
      "Epoch 20/100\n",
      "858/858 [==============================] - 1s 2ms/step - loss: 0.5429 - accuracy: 0.7354\n",
      "Epoch 21/100\n",
      "858/858 [==============================] - 2s 2ms/step - loss: 0.5425 - accuracy: 0.7352\n",
      "Epoch 22/100\n",
      "858/858 [==============================] - 1s 2ms/step - loss: 0.5421 - accuracy: 0.7348\n",
      "Epoch 23/100\n",
      "858/858 [==============================] - 2s 2ms/step - loss: 0.5418 - accuracy: 0.7365\n",
      "Epoch 24/100\n",
      "858/858 [==============================] - 2s 2ms/step - loss: 0.5415 - accuracy: 0.7362\n",
      "Epoch 25/100\n",
      "858/858 [==============================] - 2s 2ms/step - loss: 0.5414 - accuracy: 0.7364\n",
      "Epoch 26/100\n",
      "858/858 [==============================] - 2s 2ms/step - loss: 0.5405 - accuracy: 0.7368\n",
      "Epoch 27/100\n",
      "858/858 [==============================] - 2s 2ms/step - loss: 0.5406 - accuracy: 0.7367\n",
      "Epoch 28/100\n",
      "858/858 [==============================] - 2s 2ms/step - loss: 0.5406 - accuracy: 0.7380\n",
      "Epoch 29/100\n",
      "858/858 [==============================] - 2s 2ms/step - loss: 0.5400 - accuracy: 0.7360\n",
      "Epoch 30/100\n",
      "858/858 [==============================] - 2s 2ms/step - loss: 0.5395 - accuracy: 0.7376\n",
      "Epoch 31/100\n",
      "858/858 [==============================] - 2s 2ms/step - loss: 0.5392 - accuracy: 0.7368\n",
      "Epoch 32/100\n",
      "858/858 [==============================] - 2s 2ms/step - loss: 0.5390 - accuracy: 0.7372\n",
      "Epoch 33/100\n",
      "858/858 [==============================] - 2s 2ms/step - loss: 0.5386 - accuracy: 0.7374\n",
      "Epoch 34/100\n",
      "858/858 [==============================] - 2s 2ms/step - loss: 0.5393 - accuracy: 0.7376\n",
      "Epoch 35/100\n",
      "858/858 [==============================] - 1s 2ms/step - loss: 0.5386 - accuracy: 0.7380\n",
      "Epoch 36/100\n",
      "858/858 [==============================] - 1s 2ms/step - loss: 0.5389 - accuracy: 0.7379\n",
      "Epoch 37/100\n",
      "858/858 [==============================] - 2s 2ms/step - loss: 0.5387 - accuracy: 0.7384\n",
      "Epoch 38/100\n",
      "858/858 [==============================] - 1s 2ms/step - loss: 0.5383 - accuracy: 0.7369\n",
      "Epoch 39/100\n",
      "858/858 [==============================] - 1s 2ms/step - loss: 0.5380 - accuracy: 0.7379\n",
      "Epoch 40/100\n",
      "858/858 [==============================] - 1s 2ms/step - loss: 0.5377 - accuracy: 0.7384\n",
      "Epoch 41/100\n",
      "858/858 [==============================] - 1s 2ms/step - loss: 0.5380 - accuracy: 0.7385\n",
      "Epoch 42/100\n",
      "858/858 [==============================] - 1s 2ms/step - loss: 0.5373 - accuracy: 0.7390\n",
      "Epoch 43/100\n",
      "858/858 [==============================] - 2s 2ms/step - loss: 0.5373 - accuracy: 0.7377\n",
      "Epoch 44/100\n",
      "858/858 [==============================] - 1s 2ms/step - loss: 0.5376 - accuracy: 0.7375\n",
      "Epoch 45/100\n",
      "858/858 [==============================] - 1s 2ms/step - loss: 0.5369 - accuracy: 0.7389\n",
      "Epoch 46/100\n",
      "858/858 [==============================] - 2s 2ms/step - loss: 0.5369 - accuracy: 0.7385\n",
      "Epoch 47/100\n",
      "858/858 [==============================] - 2s 2ms/step - loss: 0.5366 - accuracy: 0.7384\n",
      "Epoch 48/100\n",
      "858/858 [==============================] - 2s 2ms/step - loss: 0.5368 - accuracy: 0.7398\n",
      "Epoch 49/100\n",
      "858/858 [==============================] - 2s 2ms/step - loss: 0.5364 - accuracy: 0.7389\n",
      "Epoch 50/100\n",
      "858/858 [==============================] - 2s 2ms/step - loss: 0.5367 - accuracy: 0.7383\n",
      "Epoch 51/100\n",
      "858/858 [==============================] - 2s 2ms/step - loss: 0.5362 - accuracy: 0.7396\n",
      "Epoch 52/100\n",
      "858/858 [==============================] - 1s 2ms/step - loss: 0.5364 - accuracy: 0.7384\n",
      "Epoch 53/100\n",
      "858/858 [==============================] - 2s 2ms/step - loss: 0.5362 - accuracy: 0.7381\n",
      "Epoch 54/100\n",
      "858/858 [==============================] - 2s 2ms/step - loss: 0.5360 - accuracy: 0.7395\n",
      "Epoch 55/100\n",
      "858/858 [==============================] - 2s 2ms/step - loss: 0.5354 - accuracy: 0.7396\n",
      "Epoch 56/100\n",
      "858/858 [==============================] - 2s 2ms/step - loss: 0.5355 - accuracy: 0.7390\n",
      "Epoch 57/100\n",
      "858/858 [==============================] - 2s 2ms/step - loss: 0.5354 - accuracy: 0.7401\n",
      "Epoch 58/100\n",
      "858/858 [==============================] - 1s 2ms/step - loss: 0.5350 - accuracy: 0.7402\n",
      "Epoch 59/100\n",
      "858/858 [==============================] - 2s 2ms/step - loss: 0.5354 - accuracy: 0.7387\n",
      "Epoch 60/100\n",
      "858/858 [==============================] - 2s 2ms/step - loss: 0.5348 - accuracy: 0.7390\n",
      "Epoch 61/100\n",
      "858/858 [==============================] - 2s 2ms/step - loss: 0.5353 - accuracy: 0.7390\n",
      "Epoch 62/100\n",
      "858/858 [==============================] - 1s 2ms/step - loss: 0.5349 - accuracy: 0.7406\n",
      "Epoch 63/100\n",
      "858/858 [==============================] - 1s 2ms/step - loss: 0.5346 - accuracy: 0.7397\n",
      "Epoch 64/100\n",
      "858/858 [==============================] - 2s 2ms/step - loss: 0.5346 - accuracy: 0.7396\n",
      "Epoch 65/100\n",
      "858/858 [==============================] - 2s 2ms/step - loss: 0.5347 - accuracy: 0.7395\n",
      "Epoch 66/100\n",
      "858/858 [==============================] - 2s 2ms/step - loss: 0.5344 - accuracy: 0.7407\n",
      "Epoch 67/100\n",
      "858/858 [==============================] - 1s 2ms/step - loss: 0.5343 - accuracy: 0.7405\n",
      "Epoch 68/100\n",
      "858/858 [==============================] - 1s 2ms/step - loss: 0.5344 - accuracy: 0.7399\n",
      "Epoch 69/100\n",
      "858/858 [==============================] - 1s 2ms/step - loss: 0.5345 - accuracy: 0.7401\n",
      "Epoch 70/100\n",
      "858/858 [==============================] - 1s 2ms/step - loss: 0.5340 - accuracy: 0.7393\n",
      "Epoch 71/100\n",
      "858/858 [==============================] - 2s 2ms/step - loss: 0.5342 - accuracy: 0.7394\n",
      "Epoch 72/100\n",
      "858/858 [==============================] - 2s 2ms/step - loss: 0.5342 - accuracy: 0.7400\n",
      "Epoch 73/100\n",
      "858/858 [==============================] - 2s 2ms/step - loss: 0.5337 - accuracy: 0.7405\n",
      "Epoch 74/100\n",
      "858/858 [==============================] - 2s 2ms/step - loss: 0.5339 - accuracy: 0.7400\n",
      "Epoch 75/100\n",
      "858/858 [==============================] - 1s 2ms/step - loss: 0.5342 - accuracy: 0.7399\n",
      "Epoch 76/100\n",
      "858/858 [==============================] - 1s 2ms/step - loss: 0.5332 - accuracy: 0.7393\n",
      "Epoch 77/100\n",
      "858/858 [==============================] - 1s 2ms/step - loss: 0.5343 - accuracy: 0.7402\n",
      "Epoch 78/100\n",
      "858/858 [==============================] - 1s 2ms/step - loss: 0.5338 - accuracy: 0.7399\n",
      "Epoch 79/100\n",
      "858/858 [==============================] - 1s 2ms/step - loss: 0.5334 - accuracy: 0.7406\n",
      "Epoch 80/100\n",
      "858/858 [==============================] - 1s 2ms/step - loss: 0.5332 - accuracy: 0.7405\n",
      "Epoch 81/100\n",
      "858/858 [==============================] - 1s 2ms/step - loss: 0.5340 - accuracy: 0.7406\n",
      "Epoch 82/100\n",
      "858/858 [==============================] - 1s 2ms/step - loss: 0.5338 - accuracy: 0.7400\n",
      "Epoch 83/100\n",
      "858/858 [==============================] - 1s 2ms/step - loss: 0.5334 - accuracy: 0.7409\n",
      "Epoch 84/100\n",
      "858/858 [==============================] - 1s 2ms/step - loss: 0.5332 - accuracy: 0.7397\n",
      "Epoch 85/100\n",
      "858/858 [==============================] - 1s 2ms/step - loss: 0.5337 - accuracy: 0.7398\n",
      "Epoch 86/100\n",
      "858/858 [==============================] - 1s 2ms/step - loss: 0.5330 - accuracy: 0.7398\n",
      "Epoch 87/100\n",
      "858/858 [==============================] - 2s 2ms/step - loss: 0.5330 - accuracy: 0.7398\n",
      "Epoch 88/100\n",
      "858/858 [==============================] - 2s 2ms/step - loss: 0.5331 - accuracy: 0.7401\n",
      "Epoch 89/100\n",
      "858/858 [==============================] - 2s 2ms/step - loss: 0.5334 - accuracy: 0.7400\n",
      "Epoch 90/100\n",
      "858/858 [==============================] - 2s 2ms/step - loss: 0.5339 - accuracy: 0.7405\n",
      "Epoch 91/100\n",
      "858/858 [==============================] - 1s 2ms/step - loss: 0.5338 - accuracy: 0.7399\n",
      "Epoch 92/100\n",
      "858/858 [==============================] - 1s 2ms/step - loss: 0.5327 - accuracy: 0.7404\n",
      "Epoch 93/100\n",
      "858/858 [==============================] - 1s 2ms/step - loss: 0.5328 - accuracy: 0.7414\n",
      "Epoch 94/100\n",
      "858/858 [==============================] - 2s 2ms/step - loss: 0.5329 - accuracy: 0.7400\n",
      "Epoch 95/100\n",
      "858/858 [==============================] - 1s 2ms/step - loss: 0.5326 - accuracy: 0.7405\n",
      "Epoch 96/100\n",
      "858/858 [==============================] - 1s 2ms/step - loss: 0.5328 - accuracy: 0.7402\n",
      "Epoch 97/100\n",
      "858/858 [==============================] - 1s 2ms/step - loss: 0.5326 - accuracy: 0.7405\n",
      "Epoch 98/100\n",
      "858/858 [==============================] - 1s 2ms/step - loss: 0.5323 - accuracy: 0.7403\n",
      "Epoch 99/100\n",
      "858/858 [==============================] - 1s 2ms/step - loss: 0.5323 - accuracy: 0.7407\n",
      "Epoch 100/100\n",
      "858/858 [==============================] - 1s 2ms/step - loss: 0.5328 - accuracy: 0.7401\n"
     ]
    }
   ],
   "source": [
    "# Train the model\n",
    "# Increased the number of epochs to allow the model to train more iterations over the data.\n",
    "history = nn.fit(X_train_scaled, y_train, epochs=100)"
   ]
  },
  {
   "cell_type": "code",
   "execution_count": 32,
   "metadata": {
    "tags": []
   },
   "outputs": [
    {
     "name": "stdout",
     "output_type": "stream",
     "text": [
      "215/215 - 0s - loss: 0.5796 - accuracy: 0.7246 - 382ms/epoch - 2ms/step\n",
      "Loss: 0.5795837044715881, Accuracy: 0.7246355414390564\n"
     ]
    }
   ],
   "source": [
    "# Evaluate the model using the test data\n",
    "model_loss, model_accuracy = nn.evaluate(X_test_scaled,y_test,verbose=2)\n",
    "print(f\"Loss: {model_loss}, Accuracy: {model_accuracy}\")"
   ]
  },
  {
   "cell_type": "code",
   "execution_count": 33,
   "metadata": {
    "tags": []
   },
   "outputs": [],
   "source": [
    "# Export our model to HDF5 file\n",
    "nn.save(\"AlphabetSoupCharity_Optimisation.h5\")"
   ]
  },
  {
   "cell_type": "code",
   "execution_count": null,
   "metadata": {},
   "outputs": [],
   "source": []
  }
 ],
 "metadata": {
  "kernelspec": {
   "display_name": "Python 3 (ipykernel)",
   "language": "python",
   "name": "python3"
  },
  "language_info": {
   "codemirror_mode": {
    "name": "ipython",
    "version": 3
   },
   "file_extension": ".py",
   "mimetype": "text/x-python",
   "name": "python",
   "nbconvert_exporter": "python",
   "pygments_lexer": "ipython3",
   "version": "3.10.12"
  },
  "vscode": {
   "interpreter": {
    "hash": "31f2aee4e71d21fbe5cf8b01ff0e069b9275f58929596ceb00d14d90e3e16cd6"
   }
  }
 },
 "nbformat": 4,
 "nbformat_minor": 4
}
